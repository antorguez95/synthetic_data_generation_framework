{
 "cells": [
  {
   "cell_type": "code",
   "execution_count": null,
   "metadata": {},
   "outputs": [],
   "source": [
    "# Dependencies \n",
    "import numpy as np \n",
    "import pandas as pd\n",
    "import matplotlib.pyplot as plt\n",
    "import os \n",
    "import time \n",
    "\n",
    "import sys \n",
    "sys.path.append('..')\n",
    "\n",
    "from PIMA_utils import *\n",
    "\n",
    "from exploratory_data_analysys import *\n",
    "\n",
    "from sdg_utils import * \n",
    "\n",
    "from train_utils import *\n",
    "\n",
    "from copy import deepcopy\n",
    "\n",
    "from model_evaluation import *\n",
    "\n",
    "# Save working directory to return to it \n",
    "wd = os.getcwd()\n",
    "\n",
    "# Declare dataset path and get into it\n",
    "DATASET_PATH = r\"C:\\Users\\aralmeida\\OneDrive - Universidad de Las Palmas de Gran Canaria\\Doctorado\\Bases de datos\\Diabetes\\PIMA\"\n",
    "\n",
    "# File name \n",
    "filename = \"kaggle_NIDDK_diabetes.csv\"\n",
    "\n",
    "# Monitoring computational time \n",
    "start = time.time()\n",
    "\n",
    "# Prepare PIMA database to be handled\n",
    "data, X, Y, feat_names, y_tag = prepare_PIMA(dataset_path = DATASET_PATH, filename = filename)\n",
    "\n",
    "# Return from dataset directory to working directory \n",
    "os.chdir(wd)\n",
    "\n",
    "eda(data, X, Y, 'PIMA')\n"
   ]
  }
 ],
 "metadata": {
  "interpreter": {
   "hash": "443b994f6e31b1ffe416dd55188efbeeb00e9fdbb5825ad14f0d00512def5328"
  },
  "kernelspec": {
   "display_name": "Python 3.8.10 ('models')",
   "language": "python",
   "name": "python3"
  },
  "language_info": {
   "codemirror_mode": {
    "name": "ipython",
    "version": 3
   },
   "file_extension": ".py",
   "mimetype": "text/x-python",
   "name": "python",
   "nbconvert_exporter": "python",
   "pygments_lexer": "ipython3",
   "version": "3.8.10"
  },
  "orig_nbformat": 4
 },
 "nbformat": 4,
 "nbformat_minor": 2
}
