{
 "cells": [
  {
   "cell_type": "code",
   "execution_count": 1,
   "metadata": {},
   "outputs": [],
   "source": [
    "# Dependencies \n",
    "import pandas as pd\n",
    "import os \n",
    "import numpy as np \n",
    "\n",
    "import sys \n",
    "sys.path.append('..')\n",
    "\n",
    "import openpyxl\n",
    "\n",
    "from typing import Tuple"
   ]
  },
  {
   "cell_type": "code",
   "execution_count": 2,
   "metadata": {},
   "outputs": [],
   "source": [
    "def prepare_SACardio(dataset_path : str = \"\", filename : str = \"\") -> Tuple[pd.DataFrame, pd.DataFrame, pd.DataFrame, str, str]:\n",
    "    \"\"\"Read the South Africa disease dataset from a .txt file and suit it to be processed \n",
    "    from .arff format to as a pd.DataFrame. Some transformations are applied to handle \n",
    "    this dataset properly (i.e., from \"Present\" to \"1\" and \"Absent\" to \"0\", etc. \n",
    "    This converted DataFrame is returned. \n",
    "\n",
    "    Args:\n",
    "    -----\n",
    "            dataset_path: path where dataset is stored. Set by default.\n",
    "            filename : file name of the .arff containing the dataset. Set by default.\n",
    "\n",
    "    Returns:\n",
    "    --------\n",
    "            data: dataframe containing the whole dataset\n",
    "            X : dataframe containing the dataset features\n",
    "            Y : dataframe containing only the target variable\n",
    "            cols_names: list of strings containing feature names. \n",
    "            y_tag: string containing target variable name.\n",
    "    \"\"\"\n",
    "\n",
    "    # Go to dataset path\n",
    "    os.chdir(dataset_path)\n",
    "\n",
    "    # Open the .csv file and convert it into DataFrame\n",
    "    data = pd.read_csv(filename, sep=\";\", header='infer')\n",
    "\n",
    "    # Convert \"Present\" and \"No\" (and equivalent) values into \"1\" and \"0\" \n",
    "    data.replace(('Present', 'Absent'), (1, 0), inplace=True)\n",
    "\n",
    "    # Drop ID column \n",
    "    data = data.drop(['ind'], axis=1)\n",
    "\n",
    "    # Store column names \n",
    "    cols_names = data.columns\n",
    "\n",
    "    # Store features' and target variable's names \n",
    "    cols_names_prev = data.columns\n",
    "    y_tag = cols_names_prev[len(cols_names_prev)-1]\n",
    "    cols_names = cols_names_prev[0:cols_names_prev.size]\n",
    "\n",
    "    # Save X, Y, feature names and Y name \n",
    "    y_tag = cols_names[len(cols_names)-1]\n",
    "    cols_names = cols_names[0:len(cols_names)-1]\n",
    "    X = data[cols_names]\n",
    "    Y = data[y_tag]\n",
    "    \n",
    "    return data, X, Y, cols_names, y_tag"
   ]
  },
  {
   "cell_type": "code",
   "execution_count": 3,
   "metadata": {},
   "outputs": [
    {
     "name": "stdout",
     "output_type": "stream",
     "text": [
      "0    65.367965\n",
      "1    34.632035\n",
      "Name: chd, dtype: float64\n",
      "160\n"
     ]
    }
   ],
   "source": [
    "# Dataset path\n",
    "DATASET_PATH = r\"C:\\Users\\Anto\\OneDrive - Universidad de Las Palmas de Gran Canaria\\Doctorado\\Bases de datos\\Cardiovascular\\SouthAfrica\"\n",
    "\n",
    "# File name \n",
    "filename = \"cardiovascular.txt\"\n",
    "\n",
    "# Save working directory to return to it \n",
    "wd = os.getcwd()\n",
    "\n",
    "# Prepare Alzheimer-Balea database to be handled\n",
    "data, X, Y, feat_names, y_tag = prepare_SACardio(dataset_path = DATASET_PATH, filename = filename)\n",
    "\n",
    "print(Y.value_counts()*100/len(Y))\n",
    "print(Y.sum())"
   ]
  }
 ],
 "metadata": {
  "kernelspec": {
   "display_name": "Python 3.9.12 ('EDU_JR')",
   "language": "python",
   "name": "python3"
  },
  "language_info": {
   "codemirror_mode": {
    "name": "ipython",
    "version": 3
   },
   "file_extension": ".py",
   "mimetype": "text/x-python",
   "name": "python",
   "nbconvert_exporter": "python",
   "pygments_lexer": "ipython3",
   "version": "3.9.12"
  },
  "orig_nbformat": 4,
  "vscode": {
   "interpreter": {
    "hash": "00cf5835b1827b8bbf56176462d823e4d7bec0cc62f0a1dd1a2c6395f055ea5b"
   }
  }
 },
 "nbformat": 4,
 "nbformat_minor": 2
}
